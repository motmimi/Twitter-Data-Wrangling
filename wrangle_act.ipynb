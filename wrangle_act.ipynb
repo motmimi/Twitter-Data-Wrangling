{
 "cells": [
  {
   "cell_type": "markdown",
   "metadata": {},
   "source": [
    "#### in this project, I will be wrangling, analyzing and visualizing the tweet archive of Twitter user @dog_rates, also known as WeRateDogs. WeRateDogs is a Twitter account that rates people's dogs with a humorous comment about the dog.\n",
    "\n",
    "#### The data I will be gathering, assesing, cleaning, analyzing, and visualizing will come from a downloadable CSV file, a URL link, and a JSON file extracted from twitter's API."
   ]
  },
  {
   "cell_type": "markdown",
   "metadata": {},
   "source": [
    "# Table of contents\n",
    "1.[Import The Needed Libraries](#Import_Libraries)\n",
    "\n",
    "2.[Gathering Data](#Gathering)\n",
    "\n",
    "3.[Assessing Data](#Assessing)\n",
    "\n",
    "4.[Cleaning Data](#Cleaning)\n",
    "\n",
    "5.[Storing, Analyzing, and Visualizing Data](#SAV)"
   ]
  },
  {
   "cell_type": "markdown",
   "metadata": {},
   "source": [
    "# Import The Needed Libraries\n",
    "<a id = \"Import_Libraries\"> </a>"
   ]
  },
  {
   "cell_type": "code",
   "execution_count": 216,
   "metadata": {},
   "outputs": [],
   "source": [
    "import pandas as pd\n",
    "import requests\n",
    "import matplotlib.pyplot as plt\n",
    "import io"
   ]
  },
  {
   "cell_type": "markdown",
   "metadata": {},
   "source": [
    "# Gathering Data\n",
    "<a id = \"Gathering\"> </a>"
   ]
  },
  {
   "cell_type": "code",
   "execution_count": 217,
   "metadata": {},
   "outputs": [],
   "source": [
    "# gather the twitter archive data from the manually downloaded file\n",
    "twitter_archive = pd.read_csv('twitter-archive-enhanced.csv')"
   ]
  },
  {
   "cell_type": "code",
   "execution_count": 218,
   "metadata": {},
   "outputs": [],
   "source": [
    "# gather the image predictions data from the provided url\n",
    "url = 'https://d17h27t6h515a5.cloudfront.net/topher/2017/August/599fd2ad_image-predictions/image-predictions.tsv'\n",
    "url_data = requests.get(url).content\n",
    "image_predictions = pd.read_csv(io.StringIO(url_data.decode('utf-8')), sep = '\\t')"
   ]
  },
  {
   "cell_type": "code",
   "execution_count": 219,
   "metadata": {},
   "outputs": [],
   "source": [
    "# gather Each tweet's retweet and like counts from the JSON file Acquired from Twitter's API using tweepy\n",
    "retweet_and_favorite = pd.read_json('tweet-json.txt', lines=True)"
   ]
  },
  {
   "cell_type": "markdown",
   "metadata": {},
   "source": [
    "# Assessing Data\n",
    "<a id = \"Assessing\"> </a>"
   ]
  },
  {
   "cell_type": "markdown",
   "metadata": {},
   "source": [
    "I will be assessing & and later cleaning the data upon which the analyses and visualizations are based"
   ]
  },
  {
   "cell_type": "markdown",
   "metadata": {},
   "source": [
    "#### twitter archive data assesment"
   ]
  },
  {
   "cell_type": "code",
   "execution_count": 220,
   "metadata": {
    "scrolled": true
   },
   "outputs": [
    {
     "name": "stdout",
     "output_type": "stream",
     "text": [
      "<class 'pandas.core.frame.DataFrame'>\n",
      "RangeIndex: 2356 entries, 0 to 2355\n",
      "Data columns (total 17 columns):\n",
      " #   Column                      Non-Null Count  Dtype  \n",
      "---  ------                      --------------  -----  \n",
      " 0   tweet_id                    2356 non-null   int64  \n",
      " 1   in_reply_to_status_id       78 non-null     float64\n",
      " 2   in_reply_to_user_id         78 non-null     float64\n",
      " 3   timestamp                   2356 non-null   object \n",
      " 4   source                      2356 non-null   object \n",
      " 5   text                        2356 non-null   object \n",
      " 6   retweeted_status_id         181 non-null    float64\n",
      " 7   retweeted_status_user_id    181 non-null    float64\n",
      " 8   retweeted_status_timestamp  181 non-null    object \n",
      " 9   expanded_urls               2297 non-null   object \n",
      " 10  rating_numerator            2356 non-null   int64  \n",
      " 11  rating_denominator          2356 non-null   int64  \n",
      " 12  name                        2356 non-null   object \n",
      " 13  doggo                       2356 non-null   object \n",
      " 14  floofer                     2356 non-null   object \n",
      " 15  pupper                      2356 non-null   object \n",
      " 16  puppo                       2356 non-null   object \n",
      "dtypes: float64(4), int64(3), object(10)\n",
      "memory usage: 313.0+ KB\n"
     ]
    }
   ],
   "source": [
    "twitter_archive.info()"
   ]
  },
  {
   "cell_type": "code",
   "execution_count": 221,
   "metadata": {},
   "outputs": [
    {
     "data": {
      "text/html": [
       "<div>\n",
       "<style scoped>\n",
       "    .dataframe tbody tr th:only-of-type {\n",
       "        vertical-align: middle;\n",
       "    }\n",
       "\n",
       "    .dataframe tbody tr th {\n",
       "        vertical-align: top;\n",
       "    }\n",
       "\n",
       "    .dataframe thead th {\n",
       "        text-align: right;\n",
       "    }\n",
       "</style>\n",
       "<table border=\"1\" class=\"dataframe\">\n",
       "  <thead>\n",
       "    <tr style=\"text-align: right;\">\n",
       "      <th></th>\n",
       "      <th>tweet_id</th>\n",
       "      <th>in_reply_to_status_id</th>\n",
       "      <th>in_reply_to_user_id</th>\n",
       "      <th>timestamp</th>\n",
       "      <th>source</th>\n",
       "      <th>text</th>\n",
       "      <th>retweeted_status_id</th>\n",
       "      <th>retweeted_status_user_id</th>\n",
       "      <th>retweeted_status_timestamp</th>\n",
       "      <th>expanded_urls</th>\n",
       "      <th>rating_numerator</th>\n",
       "      <th>rating_denominator</th>\n",
       "      <th>name</th>\n",
       "      <th>doggo</th>\n",
       "      <th>floofer</th>\n",
       "      <th>pupper</th>\n",
       "      <th>puppo</th>\n",
       "    </tr>\n",
       "  </thead>\n",
       "  <tbody>\n",
       "    <tr>\n",
       "      <th>0</th>\n",
       "      <td>892420643555336193</td>\n",
       "      <td>NaN</td>\n",
       "      <td>NaN</td>\n",
       "      <td>2017-08-01 16:23:56 +0000</td>\n",
       "      <td>&lt;a href=\"http://twitter.com/download/iphone\" r...</td>\n",
       "      <td>This is Phineas. He's a mystical boy. Only eve...</td>\n",
       "      <td>NaN</td>\n",
       "      <td>NaN</td>\n",
       "      <td>NaN</td>\n",
       "      <td>https://twitter.com/dog_rates/status/892420643...</td>\n",
       "      <td>13</td>\n",
       "      <td>10</td>\n",
       "      <td>Phineas</td>\n",
       "      <td>None</td>\n",
       "      <td>None</td>\n",
       "      <td>None</td>\n",
       "      <td>None</td>\n",
       "    </tr>\n",
       "    <tr>\n",
       "      <th>1</th>\n",
       "      <td>892177421306343426</td>\n",
       "      <td>NaN</td>\n",
       "      <td>NaN</td>\n",
       "      <td>2017-08-01 00:17:27 +0000</td>\n",
       "      <td>&lt;a href=\"http://twitter.com/download/iphone\" r...</td>\n",
       "      <td>This is Tilly. She's just checking pup on you....</td>\n",
       "      <td>NaN</td>\n",
       "      <td>NaN</td>\n",
       "      <td>NaN</td>\n",
       "      <td>https://twitter.com/dog_rates/status/892177421...</td>\n",
       "      <td>13</td>\n",
       "      <td>10</td>\n",
       "      <td>Tilly</td>\n",
       "      <td>None</td>\n",
       "      <td>None</td>\n",
       "      <td>None</td>\n",
       "      <td>None</td>\n",
       "    </tr>\n",
       "    <tr>\n",
       "      <th>2</th>\n",
       "      <td>891815181378084864</td>\n",
       "      <td>NaN</td>\n",
       "      <td>NaN</td>\n",
       "      <td>2017-07-31 00:18:03 +0000</td>\n",
       "      <td>&lt;a href=\"http://twitter.com/download/iphone\" r...</td>\n",
       "      <td>This is Archie. He is a rare Norwegian Pouncin...</td>\n",
       "      <td>NaN</td>\n",
       "      <td>NaN</td>\n",
       "      <td>NaN</td>\n",
       "      <td>https://twitter.com/dog_rates/status/891815181...</td>\n",
       "      <td>12</td>\n",
       "      <td>10</td>\n",
       "      <td>Archie</td>\n",
       "      <td>None</td>\n",
       "      <td>None</td>\n",
       "      <td>None</td>\n",
       "      <td>None</td>\n",
       "    </tr>\n",
       "    <tr>\n",
       "      <th>3</th>\n",
       "      <td>891689557279858688</td>\n",
       "      <td>NaN</td>\n",
       "      <td>NaN</td>\n",
       "      <td>2017-07-30 15:58:51 +0000</td>\n",
       "      <td>&lt;a href=\"http://twitter.com/download/iphone\" r...</td>\n",
       "      <td>This is Darla. She commenced a snooze mid meal...</td>\n",
       "      <td>NaN</td>\n",
       "      <td>NaN</td>\n",
       "      <td>NaN</td>\n",
       "      <td>https://twitter.com/dog_rates/status/891689557...</td>\n",
       "      <td>13</td>\n",
       "      <td>10</td>\n",
       "      <td>Darla</td>\n",
       "      <td>None</td>\n",
       "      <td>None</td>\n",
       "      <td>None</td>\n",
       "      <td>None</td>\n",
       "    </tr>\n",
       "    <tr>\n",
       "      <th>4</th>\n",
       "      <td>891327558926688256</td>\n",
       "      <td>NaN</td>\n",
       "      <td>NaN</td>\n",
       "      <td>2017-07-29 16:00:24 +0000</td>\n",
       "      <td>&lt;a href=\"http://twitter.com/download/iphone\" r...</td>\n",
       "      <td>This is Franklin. He would like you to stop ca...</td>\n",
       "      <td>NaN</td>\n",
       "      <td>NaN</td>\n",
       "      <td>NaN</td>\n",
       "      <td>https://twitter.com/dog_rates/status/891327558...</td>\n",
       "      <td>12</td>\n",
       "      <td>10</td>\n",
       "      <td>Franklin</td>\n",
       "      <td>None</td>\n",
       "      <td>None</td>\n",
       "      <td>None</td>\n",
       "      <td>None</td>\n",
       "    </tr>\n",
       "  </tbody>\n",
       "</table>\n",
       "</div>"
      ],
      "text/plain": [
       "             tweet_id  in_reply_to_status_id  in_reply_to_user_id  \\\n",
       "0  892420643555336193                    NaN                  NaN   \n",
       "1  892177421306343426                    NaN                  NaN   \n",
       "2  891815181378084864                    NaN                  NaN   \n",
       "3  891689557279858688                    NaN                  NaN   \n",
       "4  891327558926688256                    NaN                  NaN   \n",
       "\n",
       "                   timestamp  \\\n",
       "0  2017-08-01 16:23:56 +0000   \n",
       "1  2017-08-01 00:17:27 +0000   \n",
       "2  2017-07-31 00:18:03 +0000   \n",
       "3  2017-07-30 15:58:51 +0000   \n",
       "4  2017-07-29 16:00:24 +0000   \n",
       "\n",
       "                                              source  \\\n",
       "0  <a href=\"http://twitter.com/download/iphone\" r...   \n",
       "1  <a href=\"http://twitter.com/download/iphone\" r...   \n",
       "2  <a href=\"http://twitter.com/download/iphone\" r...   \n",
       "3  <a href=\"http://twitter.com/download/iphone\" r...   \n",
       "4  <a href=\"http://twitter.com/download/iphone\" r...   \n",
       "\n",
       "                                                text  retweeted_status_id  \\\n",
       "0  This is Phineas. He's a mystical boy. Only eve...                  NaN   \n",
       "1  This is Tilly. She's just checking pup on you....                  NaN   \n",
       "2  This is Archie. He is a rare Norwegian Pouncin...                  NaN   \n",
       "3  This is Darla. She commenced a snooze mid meal...                  NaN   \n",
       "4  This is Franklin. He would like you to stop ca...                  NaN   \n",
       "\n",
       "   retweeted_status_user_id retweeted_status_timestamp  \\\n",
       "0                       NaN                        NaN   \n",
       "1                       NaN                        NaN   \n",
       "2                       NaN                        NaN   \n",
       "3                       NaN                        NaN   \n",
       "4                       NaN                        NaN   \n",
       "\n",
       "                                       expanded_urls  rating_numerator  \\\n",
       "0  https://twitter.com/dog_rates/status/892420643...                13   \n",
       "1  https://twitter.com/dog_rates/status/892177421...                13   \n",
       "2  https://twitter.com/dog_rates/status/891815181...                12   \n",
       "3  https://twitter.com/dog_rates/status/891689557...                13   \n",
       "4  https://twitter.com/dog_rates/status/891327558...                12   \n",
       "\n",
       "   rating_denominator      name doggo floofer pupper puppo  \n",
       "0                  10   Phineas  None    None   None  None  \n",
       "1                  10     Tilly  None    None   None  None  \n",
       "2                  10    Archie  None    None   None  None  \n",
       "3                  10     Darla  None    None   None  None  \n",
       "4                  10  Franklin  None    None   None  None  "
      ]
     },
     "execution_count": 221,
     "metadata": {},
     "output_type": "execute_result"
    }
   ],
   "source": [
    "twitter_archive.head()"
   ]
  },
  {
   "cell_type": "code",
   "execution_count": 222,
   "metadata": {},
   "outputs": [
    {
     "data": {
      "text/plain": [
       "0"
      ]
     },
     "execution_count": 222,
     "metadata": {},
     "output_type": "execute_result"
    }
   ],
   "source": [
    "twitter_archive.duplicated().sum()"
   ]
  },
  {
   "cell_type": "code",
   "execution_count": 223,
   "metadata": {},
   "outputs": [
    {
     "data": {
      "text/plain": [
       "12      558\n",
       "11      464\n",
       "10      461\n",
       "13      351\n",
       "9       158\n",
       "8       102\n",
       "7        55\n",
       "14       54\n",
       "5        37\n",
       "6        32\n",
       "3        19\n",
       "4        17\n",
       "1         9\n",
       "2         9\n",
       "420       2\n",
       "0         2\n",
       "15        2\n",
       "75        2\n",
       "80        1\n",
       "20        1\n",
       "24        1\n",
       "26        1\n",
       "44        1\n",
       "50        1\n",
       "60        1\n",
       "165       1\n",
       "84        1\n",
       "88        1\n",
       "144       1\n",
       "182       1\n",
       "143       1\n",
       "666       1\n",
       "960       1\n",
       "1776      1\n",
       "17        1\n",
       "27        1\n",
       "45        1\n",
       "99        1\n",
       "121       1\n",
       "204       1\n",
       "Name: rating_numerator, dtype: int64"
      ]
     },
     "execution_count": 223,
     "metadata": {},
     "output_type": "execute_result"
    }
   ],
   "source": [
    "twitter_archive['rating_numerator'].value_counts()"
   ]
  },
  {
   "cell_type": "code",
   "execution_count": 224,
   "metadata": {},
   "outputs": [
    {
     "data": {
      "text/plain": [
       "10     2333\n",
       "11        3\n",
       "50        3\n",
       "80        2\n",
       "20        2\n",
       "2         1\n",
       "16        1\n",
       "40        1\n",
       "70        1\n",
       "15        1\n",
       "90        1\n",
       "110       1\n",
       "120       1\n",
       "130       1\n",
       "150       1\n",
       "170       1\n",
       "7         1\n",
       "0         1\n",
       "Name: rating_denominator, dtype: int64"
      ]
     },
     "execution_count": 224,
     "metadata": {},
     "output_type": "execute_result"
    }
   ],
   "source": [
    "twitter_archive['rating_denominator'].value_counts()"
   ]
  },
  {
   "cell_type": "code",
   "execution_count": 225,
   "metadata": {},
   "outputs": [
    {
     "data": {
      "text/plain": [
       "None     2259\n",
       "doggo      97\n",
       "Name: doggo, dtype: int64"
      ]
     },
     "execution_count": 225,
     "metadata": {},
     "output_type": "execute_result"
    }
   ],
   "source": [
    "twitter_archive['doggo'].value_counts()"
   ]
  },
  {
   "cell_type": "code",
   "execution_count": 226,
   "metadata": {},
   "outputs": [
    {
     "data": {
      "text/plain": [
       "None       2346\n",
       "floofer      10\n",
       "Name: floofer, dtype: int64"
      ]
     },
     "execution_count": 226,
     "metadata": {},
     "output_type": "execute_result"
    }
   ],
   "source": [
    "twitter_archive['floofer'].value_counts()"
   ]
  },
  {
   "cell_type": "code",
   "execution_count": 227,
   "metadata": {},
   "outputs": [
    {
     "data": {
      "text/plain": [
       "None      2099\n",
       "pupper     257\n",
       "Name: pupper, dtype: int64"
      ]
     },
     "execution_count": 227,
     "metadata": {},
     "output_type": "execute_result"
    }
   ],
   "source": [
    "twitter_archive['pupper'].value_counts()"
   ]
  },
  {
   "cell_type": "code",
   "execution_count": 228,
   "metadata": {},
   "outputs": [
    {
     "data": {
      "text/plain": [
       "None     2326\n",
       "puppo      30\n",
       "Name: puppo, dtype: int64"
      ]
     },
     "execution_count": 228,
     "metadata": {},
     "output_type": "execute_result"
    }
   ],
   "source": [
    "twitter_archive['puppo'].value_counts()"
   ]
  },
  {
   "cell_type": "markdown",
   "metadata": {},
   "source": [
    "#### image predictions data assesment"
   ]
  },
  {
   "cell_type": "code",
   "execution_count": 229,
   "metadata": {},
   "outputs": [
    {
     "name": "stdout",
     "output_type": "stream",
     "text": [
      "<class 'pandas.core.frame.DataFrame'>\n",
      "RangeIndex: 2075 entries, 0 to 2074\n",
      "Data columns (total 12 columns):\n",
      " #   Column    Non-Null Count  Dtype  \n",
      "---  ------    --------------  -----  \n",
      " 0   tweet_id  2075 non-null   int64  \n",
      " 1   jpg_url   2075 non-null   object \n",
      " 2   img_num   2075 non-null   int64  \n",
      " 3   p1        2075 non-null   object \n",
      " 4   p1_conf   2075 non-null   float64\n",
      " 5   p1_dog    2075 non-null   bool   \n",
      " 6   p2        2075 non-null   object \n",
      " 7   p2_conf   2075 non-null   float64\n",
      " 8   p2_dog    2075 non-null   bool   \n",
      " 9   p3        2075 non-null   object \n",
      " 10  p3_conf   2075 non-null   float64\n",
      " 11  p3_dog    2075 non-null   bool   \n",
      "dtypes: bool(3), float64(3), int64(2), object(4)\n",
      "memory usage: 152.1+ KB\n"
     ]
    }
   ],
   "source": [
    "image_predictions.info()"
   ]
  },
  {
   "cell_type": "code",
   "execution_count": 230,
   "metadata": {},
   "outputs": [
    {
     "data": {
      "text/html": [
       "<div>\n",
       "<style scoped>\n",
       "    .dataframe tbody tr th:only-of-type {\n",
       "        vertical-align: middle;\n",
       "    }\n",
       "\n",
       "    .dataframe tbody tr th {\n",
       "        vertical-align: top;\n",
       "    }\n",
       "\n",
       "    .dataframe thead th {\n",
       "        text-align: right;\n",
       "    }\n",
       "</style>\n",
       "<table border=\"1\" class=\"dataframe\">\n",
       "  <thead>\n",
       "    <tr style=\"text-align: right;\">\n",
       "      <th></th>\n",
       "      <th>tweet_id</th>\n",
       "      <th>jpg_url</th>\n",
       "      <th>img_num</th>\n",
       "      <th>p1</th>\n",
       "      <th>p1_conf</th>\n",
       "      <th>p1_dog</th>\n",
       "      <th>p2</th>\n",
       "      <th>p2_conf</th>\n",
       "      <th>p2_dog</th>\n",
       "      <th>p3</th>\n",
       "      <th>p3_conf</th>\n",
       "      <th>p3_dog</th>\n",
       "    </tr>\n",
       "  </thead>\n",
       "  <tbody>\n",
       "    <tr>\n",
       "      <th>0</th>\n",
       "      <td>666020888022790149</td>\n",
       "      <td>https://pbs.twimg.com/media/CT4udn0WwAA0aMy.jpg</td>\n",
       "      <td>1</td>\n",
       "      <td>Welsh_springer_spaniel</td>\n",
       "      <td>0.465074</td>\n",
       "      <td>True</td>\n",
       "      <td>collie</td>\n",
       "      <td>0.156665</td>\n",
       "      <td>True</td>\n",
       "      <td>Shetland_sheepdog</td>\n",
       "      <td>0.061428</td>\n",
       "      <td>True</td>\n",
       "    </tr>\n",
       "    <tr>\n",
       "      <th>1</th>\n",
       "      <td>666029285002620928</td>\n",
       "      <td>https://pbs.twimg.com/media/CT42GRgUYAA5iDo.jpg</td>\n",
       "      <td>1</td>\n",
       "      <td>redbone</td>\n",
       "      <td>0.506826</td>\n",
       "      <td>True</td>\n",
       "      <td>miniature_pinscher</td>\n",
       "      <td>0.074192</td>\n",
       "      <td>True</td>\n",
       "      <td>Rhodesian_ridgeback</td>\n",
       "      <td>0.072010</td>\n",
       "      <td>True</td>\n",
       "    </tr>\n",
       "    <tr>\n",
       "      <th>2</th>\n",
       "      <td>666033412701032449</td>\n",
       "      <td>https://pbs.twimg.com/media/CT4521TWwAEvMyu.jpg</td>\n",
       "      <td>1</td>\n",
       "      <td>German_shepherd</td>\n",
       "      <td>0.596461</td>\n",
       "      <td>True</td>\n",
       "      <td>malinois</td>\n",
       "      <td>0.138584</td>\n",
       "      <td>True</td>\n",
       "      <td>bloodhound</td>\n",
       "      <td>0.116197</td>\n",
       "      <td>True</td>\n",
       "    </tr>\n",
       "    <tr>\n",
       "      <th>3</th>\n",
       "      <td>666044226329800704</td>\n",
       "      <td>https://pbs.twimg.com/media/CT5Dr8HUEAA-lEu.jpg</td>\n",
       "      <td>1</td>\n",
       "      <td>Rhodesian_ridgeback</td>\n",
       "      <td>0.408143</td>\n",
       "      <td>True</td>\n",
       "      <td>redbone</td>\n",
       "      <td>0.360687</td>\n",
       "      <td>True</td>\n",
       "      <td>miniature_pinscher</td>\n",
       "      <td>0.222752</td>\n",
       "      <td>True</td>\n",
       "    </tr>\n",
       "    <tr>\n",
       "      <th>4</th>\n",
       "      <td>666049248165822465</td>\n",
       "      <td>https://pbs.twimg.com/media/CT5IQmsXIAAKY4A.jpg</td>\n",
       "      <td>1</td>\n",
       "      <td>miniature_pinscher</td>\n",
       "      <td>0.560311</td>\n",
       "      <td>True</td>\n",
       "      <td>Rottweiler</td>\n",
       "      <td>0.243682</td>\n",
       "      <td>True</td>\n",
       "      <td>Doberman</td>\n",
       "      <td>0.154629</td>\n",
       "      <td>True</td>\n",
       "    </tr>\n",
       "  </tbody>\n",
       "</table>\n",
       "</div>"
      ],
      "text/plain": [
       "             tweet_id                                          jpg_url  \\\n",
       "0  666020888022790149  https://pbs.twimg.com/media/CT4udn0WwAA0aMy.jpg   \n",
       "1  666029285002620928  https://pbs.twimg.com/media/CT42GRgUYAA5iDo.jpg   \n",
       "2  666033412701032449  https://pbs.twimg.com/media/CT4521TWwAEvMyu.jpg   \n",
       "3  666044226329800704  https://pbs.twimg.com/media/CT5Dr8HUEAA-lEu.jpg   \n",
       "4  666049248165822465  https://pbs.twimg.com/media/CT5IQmsXIAAKY4A.jpg   \n",
       "\n",
       "   img_num                      p1   p1_conf  p1_dog                  p2  \\\n",
       "0        1  Welsh_springer_spaniel  0.465074    True              collie   \n",
       "1        1                 redbone  0.506826    True  miniature_pinscher   \n",
       "2        1         German_shepherd  0.596461    True            malinois   \n",
       "3        1     Rhodesian_ridgeback  0.408143    True             redbone   \n",
       "4        1      miniature_pinscher  0.560311    True          Rottweiler   \n",
       "\n",
       "    p2_conf  p2_dog                   p3   p3_conf  p3_dog  \n",
       "0  0.156665    True    Shetland_sheepdog  0.061428    True  \n",
       "1  0.074192    True  Rhodesian_ridgeback  0.072010    True  \n",
       "2  0.138584    True           bloodhound  0.116197    True  \n",
       "3  0.360687    True   miniature_pinscher  0.222752    True  \n",
       "4  0.243682    True             Doberman  0.154629    True  "
      ]
     },
     "execution_count": 230,
     "metadata": {},
     "output_type": "execute_result"
    }
   ],
   "source": [
    "image_predictions.head()"
   ]
  },
  {
   "cell_type": "code",
   "execution_count": 231,
   "metadata": {},
   "outputs": [
    {
     "data": {
      "text/plain": [
       "True     1532\n",
       "False     543\n",
       "Name: p1_dog, dtype: int64"
      ]
     },
     "execution_count": 231,
     "metadata": {},
     "output_type": "execute_result"
    }
   ],
   "source": [
    "image_predictions['p1_dog'].value_counts()"
   ]
  },
  {
   "cell_type": "markdown",
   "metadata": {},
   "source": [
    "#### retweet and like data assesment"
   ]
  },
  {
   "cell_type": "code",
   "execution_count": 232,
   "metadata": {},
   "outputs": [
    {
     "name": "stdout",
     "output_type": "stream",
     "text": [
      "<class 'pandas.core.frame.DataFrame'>\n",
      "RangeIndex: 2354 entries, 0 to 2353\n",
      "Data columns (total 31 columns):\n",
      " #   Column                         Non-Null Count  Dtype              \n",
      "---  ------                         --------------  -----              \n",
      " 0   created_at                     2354 non-null   datetime64[ns, UTC]\n",
      " 1   id                             2354 non-null   int64              \n",
      " 2   id_str                         2354 non-null   int64              \n",
      " 3   full_text                      2354 non-null   object             \n",
      " 4   truncated                      2354 non-null   bool               \n",
      " 5   display_text_range             2354 non-null   object             \n",
      " 6   entities                       2354 non-null   object             \n",
      " 7   extended_entities              2073 non-null   object             \n",
      " 8   source                         2354 non-null   object             \n",
      " 9   in_reply_to_status_id          78 non-null     float64            \n",
      " 10  in_reply_to_status_id_str      78 non-null     float64            \n",
      " 11  in_reply_to_user_id            78 non-null     float64            \n",
      " 12  in_reply_to_user_id_str        78 non-null     float64            \n",
      " 13  in_reply_to_screen_name        78 non-null     object             \n",
      " 14  user                           2354 non-null   object             \n",
      " 15  geo                            0 non-null      float64            \n",
      " 16  coordinates                    0 non-null      float64            \n",
      " 17  place                          1 non-null      object             \n",
      " 18  contributors                   0 non-null      float64            \n",
      " 19  is_quote_status                2354 non-null   bool               \n",
      " 20  retweet_count                  2354 non-null   int64              \n",
      " 21  favorite_count                 2354 non-null   int64              \n",
      " 22  favorited                      2354 non-null   bool               \n",
      " 23  retweeted                      2354 non-null   bool               \n",
      " 24  possibly_sensitive             2211 non-null   float64            \n",
      " 25  possibly_sensitive_appealable  2211 non-null   float64            \n",
      " 26  lang                           2354 non-null   object             \n",
      " 27  retweeted_status               179 non-null    object             \n",
      " 28  quoted_status_id               29 non-null     float64            \n",
      " 29  quoted_status_id_str           29 non-null     float64            \n",
      " 30  quoted_status                  28 non-null     object             \n",
      "dtypes: bool(4), datetime64[ns, UTC](1), float64(11), int64(4), object(11)\n",
      "memory usage: 505.9+ KB\n"
     ]
    }
   ],
   "source": [
    "retweet_and_favorite.info()"
   ]
  },
  {
   "cell_type": "code",
   "execution_count": 233,
   "metadata": {
    "scrolled": true
   },
   "outputs": [
    {
     "data": {
      "text/html": [
       "<div>\n",
       "<style scoped>\n",
       "    .dataframe tbody tr th:only-of-type {\n",
       "        vertical-align: middle;\n",
       "    }\n",
       "\n",
       "    .dataframe tbody tr th {\n",
       "        vertical-align: top;\n",
       "    }\n",
       "\n",
       "    .dataframe thead th {\n",
       "        text-align: right;\n",
       "    }\n",
       "</style>\n",
       "<table border=\"1\" class=\"dataframe\">\n",
       "  <thead>\n",
       "    <tr style=\"text-align: right;\">\n",
       "      <th></th>\n",
       "      <th>created_at</th>\n",
       "      <th>id</th>\n",
       "      <th>id_str</th>\n",
       "      <th>full_text</th>\n",
       "      <th>truncated</th>\n",
       "      <th>display_text_range</th>\n",
       "      <th>entities</th>\n",
       "      <th>extended_entities</th>\n",
       "      <th>source</th>\n",
       "      <th>in_reply_to_status_id</th>\n",
       "      <th>...</th>\n",
       "      <th>favorite_count</th>\n",
       "      <th>favorited</th>\n",
       "      <th>retweeted</th>\n",
       "      <th>possibly_sensitive</th>\n",
       "      <th>possibly_sensitive_appealable</th>\n",
       "      <th>lang</th>\n",
       "      <th>retweeted_status</th>\n",
       "      <th>quoted_status_id</th>\n",
       "      <th>quoted_status_id_str</th>\n",
       "      <th>quoted_status</th>\n",
       "    </tr>\n",
       "  </thead>\n",
       "  <tbody>\n",
       "    <tr>\n",
       "      <th>0</th>\n",
       "      <td>2017-08-01 16:23:56+00:00</td>\n",
       "      <td>892420643555336193</td>\n",
       "      <td>892420643555336192</td>\n",
       "      <td>This is Phineas. He's a mystical boy. Only eve...</td>\n",
       "      <td>False</td>\n",
       "      <td>[0, 85]</td>\n",
       "      <td>{'hashtags': [], 'symbols': [], 'user_mentions...</td>\n",
       "      <td>{'media': [{'id': 892420639486877696, 'id_str'...</td>\n",
       "      <td>&lt;a href=\"http://twitter.com/download/iphone\" r...</td>\n",
       "      <td>NaN</td>\n",
       "      <td>...</td>\n",
       "      <td>39467</td>\n",
       "      <td>False</td>\n",
       "      <td>False</td>\n",
       "      <td>0.0</td>\n",
       "      <td>0.0</td>\n",
       "      <td>en</td>\n",
       "      <td>NaN</td>\n",
       "      <td>NaN</td>\n",
       "      <td>NaN</td>\n",
       "      <td>NaN</td>\n",
       "    </tr>\n",
       "    <tr>\n",
       "      <th>1</th>\n",
       "      <td>2017-08-01 00:17:27+00:00</td>\n",
       "      <td>892177421306343426</td>\n",
       "      <td>892177421306343424</td>\n",
       "      <td>This is Tilly. She's just checking pup on you....</td>\n",
       "      <td>False</td>\n",
       "      <td>[0, 138]</td>\n",
       "      <td>{'hashtags': [], 'symbols': [], 'user_mentions...</td>\n",
       "      <td>{'media': [{'id': 892177413194625024, 'id_str'...</td>\n",
       "      <td>&lt;a href=\"http://twitter.com/download/iphone\" r...</td>\n",
       "      <td>NaN</td>\n",
       "      <td>...</td>\n",
       "      <td>33819</td>\n",
       "      <td>False</td>\n",
       "      <td>False</td>\n",
       "      <td>0.0</td>\n",
       "      <td>0.0</td>\n",
       "      <td>en</td>\n",
       "      <td>NaN</td>\n",
       "      <td>NaN</td>\n",
       "      <td>NaN</td>\n",
       "      <td>NaN</td>\n",
       "    </tr>\n",
       "    <tr>\n",
       "      <th>2</th>\n",
       "      <td>2017-07-31 00:18:03+00:00</td>\n",
       "      <td>891815181378084864</td>\n",
       "      <td>891815181378084864</td>\n",
       "      <td>This is Archie. He is a rare Norwegian Pouncin...</td>\n",
       "      <td>False</td>\n",
       "      <td>[0, 121]</td>\n",
       "      <td>{'hashtags': [], 'symbols': [], 'user_mentions...</td>\n",
       "      <td>{'media': [{'id': 891815175371796480, 'id_str'...</td>\n",
       "      <td>&lt;a href=\"http://twitter.com/download/iphone\" r...</td>\n",
       "      <td>NaN</td>\n",
       "      <td>...</td>\n",
       "      <td>25461</td>\n",
       "      <td>False</td>\n",
       "      <td>False</td>\n",
       "      <td>0.0</td>\n",
       "      <td>0.0</td>\n",
       "      <td>en</td>\n",
       "      <td>NaN</td>\n",
       "      <td>NaN</td>\n",
       "      <td>NaN</td>\n",
       "      <td>NaN</td>\n",
       "    </tr>\n",
       "    <tr>\n",
       "      <th>3</th>\n",
       "      <td>2017-07-30 15:58:51+00:00</td>\n",
       "      <td>891689557279858688</td>\n",
       "      <td>891689557279858688</td>\n",
       "      <td>This is Darla. She commenced a snooze mid meal...</td>\n",
       "      <td>False</td>\n",
       "      <td>[0, 79]</td>\n",
       "      <td>{'hashtags': [], 'symbols': [], 'user_mentions...</td>\n",
       "      <td>{'media': [{'id': 891689552724799489, 'id_str'...</td>\n",
       "      <td>&lt;a href=\"http://twitter.com/download/iphone\" r...</td>\n",
       "      <td>NaN</td>\n",
       "      <td>...</td>\n",
       "      <td>42908</td>\n",
       "      <td>False</td>\n",
       "      <td>False</td>\n",
       "      <td>0.0</td>\n",
       "      <td>0.0</td>\n",
       "      <td>en</td>\n",
       "      <td>NaN</td>\n",
       "      <td>NaN</td>\n",
       "      <td>NaN</td>\n",
       "      <td>NaN</td>\n",
       "    </tr>\n",
       "    <tr>\n",
       "      <th>4</th>\n",
       "      <td>2017-07-29 16:00:24+00:00</td>\n",
       "      <td>891327558926688256</td>\n",
       "      <td>891327558926688256</td>\n",
       "      <td>This is Franklin. He would like you to stop ca...</td>\n",
       "      <td>False</td>\n",
       "      <td>[0, 138]</td>\n",
       "      <td>{'hashtags': [{'text': 'BarkWeek', 'indices': ...</td>\n",
       "      <td>{'media': [{'id': 891327551943041024, 'id_str'...</td>\n",
       "      <td>&lt;a href=\"http://twitter.com/download/iphone\" r...</td>\n",
       "      <td>NaN</td>\n",
       "      <td>...</td>\n",
       "      <td>41048</td>\n",
       "      <td>False</td>\n",
       "      <td>False</td>\n",
       "      <td>0.0</td>\n",
       "      <td>0.0</td>\n",
       "      <td>en</td>\n",
       "      <td>NaN</td>\n",
       "      <td>NaN</td>\n",
       "      <td>NaN</td>\n",
       "      <td>NaN</td>\n",
       "    </tr>\n",
       "  </tbody>\n",
       "</table>\n",
       "<p>5 rows × 31 columns</p>\n",
       "</div>"
      ],
      "text/plain": [
       "                 created_at                  id              id_str  \\\n",
       "0 2017-08-01 16:23:56+00:00  892420643555336193  892420643555336192   \n",
       "1 2017-08-01 00:17:27+00:00  892177421306343426  892177421306343424   \n",
       "2 2017-07-31 00:18:03+00:00  891815181378084864  891815181378084864   \n",
       "3 2017-07-30 15:58:51+00:00  891689557279858688  891689557279858688   \n",
       "4 2017-07-29 16:00:24+00:00  891327558926688256  891327558926688256   \n",
       "\n",
       "                                           full_text  truncated  \\\n",
       "0  This is Phineas. He's a mystical boy. Only eve...      False   \n",
       "1  This is Tilly. She's just checking pup on you....      False   \n",
       "2  This is Archie. He is a rare Norwegian Pouncin...      False   \n",
       "3  This is Darla. She commenced a snooze mid meal...      False   \n",
       "4  This is Franklin. He would like you to stop ca...      False   \n",
       "\n",
       "  display_text_range                                           entities  \\\n",
       "0            [0, 85]  {'hashtags': [], 'symbols': [], 'user_mentions...   \n",
       "1           [0, 138]  {'hashtags': [], 'symbols': [], 'user_mentions...   \n",
       "2           [0, 121]  {'hashtags': [], 'symbols': [], 'user_mentions...   \n",
       "3            [0, 79]  {'hashtags': [], 'symbols': [], 'user_mentions...   \n",
       "4           [0, 138]  {'hashtags': [{'text': 'BarkWeek', 'indices': ...   \n",
       "\n",
       "                                   extended_entities  \\\n",
       "0  {'media': [{'id': 892420639486877696, 'id_str'...   \n",
       "1  {'media': [{'id': 892177413194625024, 'id_str'...   \n",
       "2  {'media': [{'id': 891815175371796480, 'id_str'...   \n",
       "3  {'media': [{'id': 891689552724799489, 'id_str'...   \n",
       "4  {'media': [{'id': 891327551943041024, 'id_str'...   \n",
       "\n",
       "                                              source  in_reply_to_status_id  \\\n",
       "0  <a href=\"http://twitter.com/download/iphone\" r...                    NaN   \n",
       "1  <a href=\"http://twitter.com/download/iphone\" r...                    NaN   \n",
       "2  <a href=\"http://twitter.com/download/iphone\" r...                    NaN   \n",
       "3  <a href=\"http://twitter.com/download/iphone\" r...                    NaN   \n",
       "4  <a href=\"http://twitter.com/download/iphone\" r...                    NaN   \n",
       "\n",
       "   ...  favorite_count  favorited  retweeted possibly_sensitive  \\\n",
       "0  ...           39467      False      False                0.0   \n",
       "1  ...           33819      False      False                0.0   \n",
       "2  ...           25461      False      False                0.0   \n",
       "3  ...           42908      False      False                0.0   \n",
       "4  ...           41048      False      False                0.0   \n",
       "\n",
       "  possibly_sensitive_appealable  lang  retweeted_status quoted_status_id  \\\n",
       "0                           0.0    en               NaN              NaN   \n",
       "1                           0.0    en               NaN              NaN   \n",
       "2                           0.0    en               NaN              NaN   \n",
       "3                           0.0    en               NaN              NaN   \n",
       "4                           0.0    en               NaN              NaN   \n",
       "\n",
       "   quoted_status_id_str  quoted_status  \n",
       "0                   NaN            NaN  \n",
       "1                   NaN            NaN  \n",
       "2                   NaN            NaN  \n",
       "3                   NaN            NaN  \n",
       "4                   NaN            NaN  \n",
       "\n",
       "[5 rows x 31 columns]"
      ]
     },
     "execution_count": 233,
     "metadata": {},
     "output_type": "execute_result"
    }
   ],
   "source": [
    "retweet_and_favorite.head()"
   ]
  },
  {
   "cell_type": "code",
   "execution_count": 234,
   "metadata": {},
   "outputs": [
    {
     "data": {
      "text/plain": [
       "en     2336\n",
       "und       7\n",
       "in        3\n",
       "nl        3\n",
       "et        1\n",
       "es        1\n",
       "eu        1\n",
       "tl        1\n",
       "ro        1\n",
       "Name: lang, dtype: int64"
      ]
     },
     "execution_count": 234,
     "metadata": {},
     "output_type": "execute_result"
    }
   ],
   "source": [
    "retweet_and_favorite['lang'].value_counts()"
   ]
  },
  {
   "cell_type": "markdown",
   "metadata": {},
   "source": [
    "###  Assesment documentation for twitter archive data\n",
    "\n",
    "Quality:\n",
    "\n",
    "1) there are 78 reply\n",
    "\n",
    "2) there are 181 retweets\n",
    "\n",
    "3) there are rating numerator above 20\n",
    "\n",
    "4) there are rating denominator that are not 10 \n",
    "\n",
    "Tideness:\n",
    "\n",
    "1) the dog stage is one variable and hence should form single column. But this variable is spread across 4 columns"
   ]
  },
  {
   "cell_type": "markdown",
   "metadata": {},
   "source": [
    "###  Assesment documentation for image predictions data\n",
    "\n",
    "Quality:\n",
    "\n",
    "5) there are 543 predictions (algorithm's #1) that are not for dogs\n",
    "\n",
    "6) there are 887 predictions with low accurecy (<70%)\n"
   ]
  },
  {
   "cell_type": "markdown",
   "metadata": {},
   "source": [
    "###  Assesment documentation for retweet and like data\n",
    "\n",
    "Quality: \n",
    "\n",
    "7) the key coulmn is nameed 'id' which is different than the the key coulmn name in the other 2 tables 'tweet_id'\n",
    "\n",
    "8) the colulmn lang contains an abbreviation of the langauge that is not clear\n",
    "\n",
    "Tideness:\n",
    "\n",
    "2) observations in the 3 tables are the same type "
   ]
  },
  {
   "cell_type": "markdown",
   "metadata": {},
   "source": [
    "# Cleaning Data\n",
    "<a id = \"Cleaning\"> </a>"
   ]
  },
  {
   "cell_type": "code",
   "execution_count": 235,
   "metadata": {},
   "outputs": [],
   "source": [
    "# create a copy of the 3 data frames\n",
    "df1 = twitter_archive.copy()\n",
    "df2 = image_predictions.copy()\n",
    "df3 = retweet_and_favorite.copy()"
   ]
  },
  {
   "cell_type": "markdown",
   "metadata": {},
   "source": [
    "### Quality iusse 1 in twitter archive data"
   ]
  },
  {
   "cell_type": "code",
   "execution_count": 236,
   "metadata": {},
   "outputs": [],
   "source": [
    "# Defin: 78 replies needs to be deleted as these are not origional ratings \n",
    "\n",
    "# Code\n",
    "labels = df1[df1['in_reply_to_status_id'].notnull()].index\n",
    "df1.drop(labels=labels, axis=0, inplace = True)"
   ]
  },
  {
   "cell_type": "code",
   "execution_count": 237,
   "metadata": {},
   "outputs": [
    {
     "data": {
      "text/plain": [
       "(78, 0)"
      ]
     },
     "execution_count": 237,
     "metadata": {},
     "output_type": "execute_result"
    }
   ],
   "source": [
    "# test to show how many replies are there before and after the clean\n",
    "len(twitter_archive[twitter_archive['in_reply_to_status_id'].notnull()]['tweet_id']),len(df1[df1['in_reply_to_status_id'].notnull()]['tweet_id'])\n"
   ]
  },
  {
   "cell_type": "markdown",
   "metadata": {},
   "source": [
    "### Quality iusse 2 in twitter archive data"
   ]
  },
  {
   "cell_type": "code",
   "execution_count": 238,
   "metadata": {},
   "outputs": [],
   "source": [
    "# Defin: 181 retweets needs to be deleted as these are not origional ratings \n",
    "\n",
    "# Code\n",
    "labels = df1[df1['retweeted_status_id'].notnull()].index\n",
    "df1.drop(labels=labels, axis=0, inplace = True)"
   ]
  },
  {
   "cell_type": "code",
   "execution_count": 239,
   "metadata": {},
   "outputs": [
    {
     "data": {
      "text/plain": [
       "(181, 0)"
      ]
     },
     "execution_count": 239,
     "metadata": {},
     "output_type": "execute_result"
    }
   ],
   "source": [
    "# test to show how many retweets are there before and after the clean\n",
    "len(twitter_archive[twitter_archive['retweeted_status_id'].notnull()]['tweet_id']),len(df1[df1['retweeted_status_id'].notnull()]['tweet_id'])\n"
   ]
  },
  {
   "cell_type": "markdown",
   "metadata": {},
   "source": [
    "### Quality iusse 3 in twitter archive data"
   ]
  },
  {
   "cell_type": "code",
   "execution_count": 240,
   "metadata": {},
   "outputs": [],
   "source": [
    "# Defin: rating numerator above 20 are typos and needs to be deleted\n",
    "\n",
    "# Code\n",
    "labels = df1[df1['rating_numerator'] > 20].index\n",
    "df1.drop(labels=labels, axis=0, inplace = True)"
   ]
  },
  {
   "cell_type": "code",
   "execution_count": 241,
   "metadata": {},
   "outputs": [
    {
     "data": {
      "text/plain": [
       "(24, 0)"
      ]
     },
     "execution_count": 241,
     "metadata": {},
     "output_type": "execute_result"
    }
   ],
   "source": [
    "# test to show how many tweets with numerator above 20 are there before and after the clean\n",
    "len(twitter_archive[twitter_archive['rating_numerator'] >20]['tweet_id']), len(df1[df1['rating_numerator'] >20]['tweet_id'])"
   ]
  },
  {
   "cell_type": "markdown",
   "metadata": {},
   "source": [
    "### Quality iusse 4 in twitter archive data"
   ]
  },
  {
   "cell_type": "code",
   "execution_count": 242,
   "metadata": {},
   "outputs": [],
   "source": [
    "# Defin: rating denominator that are not 10 are typos and needs to be deleted\n",
    "\n",
    "# Code\n",
    "labels = df1[df1['rating_denominator'] != 10].index\n",
    "df1.drop(labels=labels, axis=0, inplace = True)"
   ]
  },
  {
   "cell_type": "code",
   "execution_count": 243,
   "metadata": {},
   "outputs": [
    {
     "data": {
      "text/plain": [
       "(23, 0)"
      ]
     },
     "execution_count": 243,
     "metadata": {},
     "output_type": "execute_result"
    }
   ],
   "source": [
    "# test to show how many tweets with denominator that are not 10 are there before and after the clean\n",
    "len(twitter_archive[twitter_archive['rating_denominator'] != 10]),len(df1[df1['rating_denominator'] != 10])"
   ]
  },
  {
   "cell_type": "markdown",
   "metadata": {},
   "source": [
    "### Quality iusse 5 in image predictions data "
   ]
  },
  {
   "cell_type": "code",
   "execution_count": 244,
   "metadata": {},
   "outputs": [],
   "source": [
    "# Defin: 543 predictions(algorithm's #1) that are not for dogs needs to be deleted as these are false predictions  \n",
    "\n",
    "# Code\n",
    "labels = df2[df2['p1_dog'] == False].index\n",
    "df2.drop(labels=labels, axis=0, inplace = True)"
   ]
  },
  {
   "cell_type": "code",
   "execution_count": 245,
   "metadata": {},
   "outputs": [
    {
     "data": {
      "text/plain": [
       "(543, 0)"
      ]
     },
     "execution_count": 245,
     "metadata": {},
     "output_type": "execute_result"
    }
   ],
   "source": [
    "# test to show how many false predictions are there before and after the clean\n",
    "len(image_predictions[image_predictions['p1_dog'] == False].index), len(df2[df2['p1_dog'] == False].index)"
   ]
  },
  {
   "cell_type": "markdown",
   "metadata": {},
   "source": [
    "### Quality iusse 6 in image predictions data "
   ]
  },
  {
   "cell_type": "code",
   "execution_count": 246,
   "metadata": {},
   "outputs": [],
   "source": [
    "# Defin: 887 predictions with low confidence (<70%) needs to be deleted to prevent it from affecting the analysis findings\n",
    "\n",
    "# Code\n",
    "labels = df2[df2['p1_conf'] < 0.7].index\n",
    "df2.drop(labels=labels, axis=0, inplace = True)"
   ]
  },
  {
   "cell_type": "code",
   "execution_count": 247,
   "metadata": {},
   "outputs": [
    {
     "data": {
      "text/plain": [
       "(1242, 0)"
      ]
     },
     "execution_count": 247,
     "metadata": {},
     "output_type": "execute_result"
    }
   ],
   "source": [
    "## test: to show how many low confidence predictions are there before and after the clean\n",
    "len(image_predictions[image_predictions['p1_conf'] < 0.7]['tweet_id']), len(df2[df2['p1_conf'] < 0.7]['tweet_id'])"
   ]
  },
  {
   "cell_type": "markdown",
   "metadata": {},
   "source": [
    "###  Quality iusse 7 in retweet and like data"
   ]
  },
  {
   "cell_type": "code",
   "execution_count": 248,
   "metadata": {},
   "outputs": [],
   "source": [
    "# Defin: the key coulmn is nameed 'id' which is different than the the key coulmn name in the other 2 tables 'tweet_id'\n",
    "# it has to be changed to ensure succesful merging later\n",
    "\n",
    "# Code\n",
    "df3.rename(columns={'id':'tweet_id'}, inplace=True)"
   ]
  },
  {
   "cell_type": "code",
   "execution_count": 249,
   "metadata": {},
   "outputs": [
    {
     "name": "stdout",
     "output_type": "stream",
     "text": [
      "<class 'pandas.core.frame.DataFrame'>\n",
      "RangeIndex: 2354 entries, 0 to 2353\n",
      "Data columns (total 31 columns):\n",
      " #   Column                         Non-Null Count  Dtype              \n",
      "---  ------                         --------------  -----              \n",
      " 0   created_at                     2354 non-null   datetime64[ns, UTC]\n",
      " 1   tweet_id                       2354 non-null   int64              \n",
      " 2   id_str                         2354 non-null   int64              \n",
      " 3   full_text                      2354 non-null   object             \n",
      " 4   truncated                      2354 non-null   bool               \n",
      " 5   display_text_range             2354 non-null   object             \n",
      " 6   entities                       2354 non-null   object             \n",
      " 7   extended_entities              2073 non-null   object             \n",
      " 8   source                         2354 non-null   object             \n",
      " 9   in_reply_to_status_id          78 non-null     float64            \n",
      " 10  in_reply_to_status_id_str      78 non-null     float64            \n",
      " 11  in_reply_to_user_id            78 non-null     float64            \n",
      " 12  in_reply_to_user_id_str        78 non-null     float64            \n",
      " 13  in_reply_to_screen_name        78 non-null     object             \n",
      " 14  user                           2354 non-null   object             \n",
      " 15  geo                            0 non-null      float64            \n",
      " 16  coordinates                    0 non-null      float64            \n",
      " 17  place                          1 non-null      object             \n",
      " 18  contributors                   0 non-null      float64            \n",
      " 19  is_quote_status                2354 non-null   bool               \n",
      " 20  retweet_count                  2354 non-null   int64              \n",
      " 21  favorite_count                 2354 non-null   int64              \n",
      " 22  favorited                      2354 non-null   bool               \n",
      " 23  retweeted                      2354 non-null   bool               \n",
      " 24  possibly_sensitive             2211 non-null   float64            \n",
      " 25  possibly_sensitive_appealable  2211 non-null   float64            \n",
      " 26  lang                           2354 non-null   object             \n",
      " 27  retweeted_status               179 non-null    object             \n",
      " 28  quoted_status_id               29 non-null     float64            \n",
      " 29  quoted_status_id_str           29 non-null     float64            \n",
      " 30  quoted_status                  28 non-null     object             \n",
      "dtypes: bool(4), datetime64[ns, UTC](1), float64(11), int64(4), object(11)\n",
      "memory usage: 505.9+ KB\n"
     ]
    }
   ],
   "source": [
    "## test: to confirm the rename took a place\n",
    "\n",
    "df3.info()"
   ]
  },
  {
   "cell_type": "markdown",
   "metadata": {},
   "source": [
    "###  Quality iusse 8 in retweet and like data"
   ]
  },
  {
   "cell_type": "code",
   "execution_count": 250,
   "metadata": {},
   "outputs": [],
   "source": [
    "# Defin: the lang coulmn has only an unclear abbreviation, this needs to be replaced with the language name\n",
    "\n",
    "# Code\n",
    "df3['lang'] = df3['lang'].replace(['en','und','nl','in','eu','et','ro','tl','es'],['english','rundi','duch','indonisian','basque','estonian','romanian','tagalog','spanish'])"
   ]
  },
  {
   "cell_type": "code",
   "execution_count": 251,
   "metadata": {},
   "outputs": [
    {
     "data": {
      "text/plain": [
       "english       2336\n",
       "rundi            7\n",
       "indonisian       3\n",
       "duch             3\n",
       "romanian         1\n",
       "estonian         1\n",
       "basque           1\n",
       "spanish          1\n",
       "tagalog          1\n",
       "Name: lang, dtype: int64"
      ]
     },
     "execution_count": 251,
     "metadata": {},
     "output_type": "execute_result"
    }
   ],
   "source": [
    "## test: to confirm the rename took a place\n",
    "df3['lang'].value_counts()"
   ]
  },
  {
   "cell_type": "code",
   "execution_count": 252,
   "metadata": {},
   "outputs": [],
   "source": [
    "### Tideness iusse 1 in twitter archive data"
   ]
  },
  {
   "cell_type": "code",
   "execution_count": 253,
   "metadata": {},
   "outputs": [],
   "source": [
    "# Defin:\n",
    "# First replace None in stage columns with empty string as follows.\n",
    "# Then combine stage columns.\n",
    "# Then format entries with multiple dog stages which appeared like doggopupper.\n",
    "# Code:\n",
    "df1.doggo.replace('None', '', inplace=True)  \n",
    "df1.floofer.replace('None', '', inplace=True) \n",
    "df1.pupper.replace('None', '', inplace=True)\n",
    "df1.puppo.replace('None', '', inplace=True)\n",
    "\n",
    "\n",
    "df1['stage'] = df1.doggo + df1.floofer + df1.pupper + df1.puppo\n",
    "df1.loc[df1.stage == 'doggopupper', 'stage'] = 'doggo,pupper' \n",
    "df1.loc[df1.stage == 'doggopuppo', 'stage'] = 'doggo,puppo' \n",
    "df1.loc[df1.stage == 'doggofloofer', 'stage'] = 'doggo,floofer'\n"
   ]
  },
  {
   "cell_type": "code",
   "execution_count": 254,
   "metadata": {},
   "outputs": [],
   "source": [
    "## test: to confirm the rename took a place"
   ]
  },
  {
   "cell_type": "code",
   "execution_count": 255,
   "metadata": {},
   "outputs": [
    {
     "name": "stdout",
     "output_type": "stream",
     "text": [
      "<class 'pandas.core.frame.DataFrame'>\n",
      "Int64Index: 2075 entries, 0 to 2355\n",
      "Data columns (total 18 columns):\n",
      " #   Column                      Non-Null Count  Dtype  \n",
      "---  ------                      --------------  -----  \n",
      " 0   tweet_id                    2075 non-null   int64  \n",
      " 1   in_reply_to_status_id       0 non-null      float64\n",
      " 2   in_reply_to_user_id         0 non-null      float64\n",
      " 3   timestamp                   2075 non-null   object \n",
      " 4   source                      2075 non-null   object \n",
      " 5   text                        2075 non-null   object \n",
      " 6   retweeted_status_id         0 non-null      float64\n",
      " 7   retweeted_status_user_id    0 non-null      float64\n",
      " 8   retweeted_status_timestamp  0 non-null      object \n",
      " 9   expanded_urls               2072 non-null   object \n",
      " 10  rating_numerator            2075 non-null   int64  \n",
      " 11  rating_denominator          2075 non-null   int64  \n",
      " 12  name                        2075 non-null   object \n",
      " 13  doggo                       2075 non-null   object \n",
      " 14  floofer                     2075 non-null   object \n",
      " 15  pupper                      2075 non-null   object \n",
      " 16  puppo                       2075 non-null   object \n",
      " 17  stage                       2075 non-null   object \n",
      "dtypes: float64(4), int64(3), object(11)\n",
      "memory usage: 308.0+ KB\n"
     ]
    }
   ],
   "source": [
    "df1.info()"
   ]
  },
  {
   "cell_type": "code",
   "execution_count": 256,
   "metadata": {},
   "outputs": [
    {
     "data": {
      "text/plain": [
       "                 1740\n",
       "pupper            220\n",
       "doggo              72\n",
       "puppo              23\n",
       "floofer             9\n",
       "doggo,pupper        9\n",
       "doggo,floofer       1\n",
       "doggo,puppo         1\n",
       "Name: stage, dtype: int64"
      ]
     },
     "execution_count": 256,
     "metadata": {},
     "output_type": "execute_result"
    }
   ],
   "source": [
    "df1['stage'].value_counts()"
   ]
  },
  {
   "cell_type": "markdown",
   "metadata": {},
   "source": [
    "### Tideness iusse 2 in the 3 tables"
   ]
  },
  {
   "cell_type": "code",
   "execution_count": 257,
   "metadata": {},
   "outputs": [],
   "source": [
    "# Define: observations are the same type in retweet and like data as the twitter archive data, so I will join both data frames"
   ]
  },
  {
   "cell_type": "code",
   "execution_count": 258,
   "metadata": {},
   "outputs": [],
   "source": [
    "#Code:\n",
    "df4 = pd.merge(df1,df2,on = 'tweet_id') "
   ]
  },
  {
   "cell_type": "code",
   "execution_count": 259,
   "metadata": {},
   "outputs": [],
   "source": [
    "## test: to check visually that the new dataframe is a joint of the original 2"
   ]
  },
  {
   "cell_type": "code",
   "execution_count": 260,
   "metadata": {},
   "outputs": [
    {
     "data": {
      "text/plain": [
       "['tweet_id',\n",
       " 'in_reply_to_status_id',\n",
       " 'in_reply_to_user_id',\n",
       " 'timestamp',\n",
       " 'source',\n",
       " 'text',\n",
       " 'retweeted_status_id',\n",
       " 'retweeted_status_user_id',\n",
       " 'retweeted_status_timestamp',\n",
       " 'expanded_urls',\n",
       " 'rating_numerator',\n",
       " 'rating_denominator',\n",
       " 'name',\n",
       " 'doggo',\n",
       " 'floofer',\n",
       " 'pupper',\n",
       " 'puppo',\n",
       " 'stage',\n",
       " 'tweet_id',\n",
       " 'jpg_url',\n",
       " 'img_num',\n",
       " 'p1',\n",
       " 'p1_conf',\n",
       " 'p1_dog',\n",
       " 'p2',\n",
       " 'p2_conf',\n",
       " 'p2_dog',\n",
       " 'p3',\n",
       " 'p3_conf',\n",
       " 'p3_dog']"
      ]
     },
     "execution_count": 260,
     "metadata": {},
     "output_type": "execute_result"
    }
   ],
   "source": [
    "list(df1) + list(df2)"
   ]
  },
  {
   "cell_type": "code",
   "execution_count": 261,
   "metadata": {},
   "outputs": [
    {
     "data": {
      "text/plain": [
       "['tweet_id',\n",
       " 'in_reply_to_status_id',\n",
       " 'in_reply_to_user_id',\n",
       " 'timestamp',\n",
       " 'source',\n",
       " 'text',\n",
       " 'retweeted_status_id',\n",
       " 'retweeted_status_user_id',\n",
       " 'retweeted_status_timestamp',\n",
       " 'expanded_urls',\n",
       " 'rating_numerator',\n",
       " 'rating_denominator',\n",
       " 'name',\n",
       " 'doggo',\n",
       " 'floofer',\n",
       " 'pupper',\n",
       " 'puppo',\n",
       " 'stage',\n",
       " 'jpg_url',\n",
       " 'img_num',\n",
       " 'p1',\n",
       " 'p1_conf',\n",
       " 'p1_dog',\n",
       " 'p2',\n",
       " 'p2_conf',\n",
       " 'p2_dog',\n",
       " 'p3',\n",
       " 'p3_conf',\n",
       " 'p3_dog']"
      ]
     },
     "execution_count": 261,
     "metadata": {},
     "output_type": "execute_result"
    }
   ],
   "source": [
    "list(df4)"
   ]
  },
  {
   "cell_type": "code",
   "execution_count": 262,
   "metadata": {},
   "outputs": [],
   "source": [
    "# Define: observations in favorit and like are the same type as the twitter_archive_master, so I will join both data frames"
   ]
  },
  {
   "cell_type": "code",
   "execution_count": 263,
   "metadata": {},
   "outputs": [],
   "source": [
    "#Code:\n",
    "df5 = pd.merge(df3,df4,on = 'tweet_id') "
   ]
  },
  {
   "cell_type": "code",
   "execution_count": 264,
   "metadata": {},
   "outputs": [],
   "source": [
    "## test: to check visually that the new dataframe is a joint of df3 and df4"
   ]
  },
  {
   "cell_type": "code",
   "execution_count": 265,
   "metadata": {},
   "outputs": [
    {
     "data": {
      "text/plain": [
       "['created_at',\n",
       " 'tweet_id',\n",
       " 'id_str',\n",
       " 'full_text',\n",
       " 'truncated',\n",
       " 'display_text_range',\n",
       " 'entities',\n",
       " 'extended_entities',\n",
       " 'source',\n",
       " 'in_reply_to_status_id',\n",
       " 'in_reply_to_status_id_str',\n",
       " 'in_reply_to_user_id',\n",
       " 'in_reply_to_user_id_str',\n",
       " 'in_reply_to_screen_name',\n",
       " 'user',\n",
       " 'geo',\n",
       " 'coordinates',\n",
       " 'place',\n",
       " 'contributors',\n",
       " 'is_quote_status',\n",
       " 'retweet_count',\n",
       " 'favorite_count',\n",
       " 'favorited',\n",
       " 'retweeted',\n",
       " 'possibly_sensitive',\n",
       " 'possibly_sensitive_appealable',\n",
       " 'lang',\n",
       " 'retweeted_status',\n",
       " 'quoted_status_id',\n",
       " 'quoted_status_id_str',\n",
       " 'quoted_status',\n",
       " 'tweet_id',\n",
       " 'in_reply_to_status_id',\n",
       " 'in_reply_to_user_id',\n",
       " 'timestamp',\n",
       " 'source',\n",
       " 'text',\n",
       " 'retweeted_status_id',\n",
       " 'retweeted_status_user_id',\n",
       " 'retweeted_status_timestamp',\n",
       " 'expanded_urls',\n",
       " 'rating_numerator',\n",
       " 'rating_denominator',\n",
       " 'name',\n",
       " 'doggo',\n",
       " 'floofer',\n",
       " 'pupper',\n",
       " 'puppo',\n",
       " 'stage',\n",
       " 'jpg_url',\n",
       " 'img_num',\n",
       " 'p1',\n",
       " 'p1_conf',\n",
       " 'p1_dog',\n",
       " 'p2',\n",
       " 'p2_conf',\n",
       " 'p2_dog',\n",
       " 'p3',\n",
       " 'p3_conf',\n",
       " 'p3_dog']"
      ]
     },
     "execution_count": 265,
     "metadata": {},
     "output_type": "execute_result"
    }
   ],
   "source": [
    "list(df3) + list(df4)"
   ]
  },
  {
   "cell_type": "code",
   "execution_count": 266,
   "metadata": {},
   "outputs": [
    {
     "data": {
      "text/plain": [
       "['created_at',\n",
       " 'tweet_id',\n",
       " 'id_str',\n",
       " 'full_text',\n",
       " 'truncated',\n",
       " 'display_text_range',\n",
       " 'entities',\n",
       " 'extended_entities',\n",
       " 'source_x',\n",
       " 'in_reply_to_status_id_x',\n",
       " 'in_reply_to_status_id_str',\n",
       " 'in_reply_to_user_id_x',\n",
       " 'in_reply_to_user_id_str',\n",
       " 'in_reply_to_screen_name',\n",
       " 'user',\n",
       " 'geo',\n",
       " 'coordinates',\n",
       " 'place',\n",
       " 'contributors',\n",
       " 'is_quote_status',\n",
       " 'retweet_count',\n",
       " 'favorite_count',\n",
       " 'favorited',\n",
       " 'retweeted',\n",
       " 'possibly_sensitive',\n",
       " 'possibly_sensitive_appealable',\n",
       " 'lang',\n",
       " 'retweeted_status',\n",
       " 'quoted_status_id',\n",
       " 'quoted_status_id_str',\n",
       " 'quoted_status',\n",
       " 'in_reply_to_status_id_y',\n",
       " 'in_reply_to_user_id_y',\n",
       " 'timestamp',\n",
       " 'source_y',\n",
       " 'text',\n",
       " 'retweeted_status_id',\n",
       " 'retweeted_status_user_id',\n",
       " 'retweeted_status_timestamp',\n",
       " 'expanded_urls',\n",
       " 'rating_numerator',\n",
       " 'rating_denominator',\n",
       " 'name',\n",
       " 'doggo',\n",
       " 'floofer',\n",
       " 'pupper',\n",
       " 'puppo',\n",
       " 'stage',\n",
       " 'jpg_url',\n",
       " 'img_num',\n",
       " 'p1',\n",
       " 'p1_conf',\n",
       " 'p1_dog',\n",
       " 'p2',\n",
       " 'p2_conf',\n",
       " 'p2_dog',\n",
       " 'p3',\n",
       " 'p3_conf',\n",
       " 'p3_dog']"
      ]
     },
     "execution_count": 266,
     "metadata": {},
     "output_type": "execute_result"
    }
   ],
   "source": [
    "list(df5)"
   ]
  },
  {
   "cell_type": "markdown",
   "metadata": {},
   "source": [
    "# Storing, Analyzing, and Visualizing Data \n",
    "<a id = \"SAV\"> </a>"
   ]
  },
  {
   "cell_type": "markdown",
   "metadata": {},
   "source": [
    "### Storing"
   ]
  },
  {
   "cell_type": "code",
   "execution_count": 267,
   "metadata": {},
   "outputs": [],
   "source": [
    "df5.to_csv('twitter_archive_master.csv', index=False)"
   ]
  },
  {
   "cell_type": "markdown",
   "metadata": {},
   "source": [
    "### Analyzing and Visualizing 1:"
   ]
  },
  {
   "cell_type": "code",
   "execution_count": 268,
   "metadata": {},
   "outputs": [
    {
     "data": {
      "image/png": "[encoded data removed]",
      "text/plain": [
       "<Figure size 432x288 with 1 Axes>"
      ]
     },
     "metadata": {
      "needs_background": "light"
     },
     "output_type": "display_data"
    }
   ],
   "source": [
    "\n",
    "df5.plot(x = 'rating_numerator', y = 'retweet_count', kind = 'scatter');"
   ]
  },
  {
   "cell_type": "code",
   "execution_count": 269,
   "metadata": {},
   "outputs": [
    {
     "data": {
      "text/plain": [
       "0.3130053787776034"
      ]
     },
     "execution_count": 269,
     "metadata": {},
     "output_type": "execute_result"
    }
   ],
   "source": [
    "df5['rating_numerator'].corr(df5['retweet_count'])"
   ]
  },
  {
   "cell_type": "markdown",
   "metadata": {},
   "source": [
    "### the 1st insight is that there is a positive corelation between the dog rating and the number of retweets\n",
    "### so we can expect that the more rating a dog gets the more retweet it will get as well in general"
   ]
  },
  {
   "cell_type": "markdown",
   "metadata": {},
   "source": [
    "### Analyzing and Visualizing 2:"
   ]
  },
  {
   "cell_type": "code",
   "execution_count": 270,
   "metadata": {},
   "outputs": [
    {
     "data": {
      "image/png": "[encoded data removed]",
      "text/plain": [
       "<Figure size 432x288 with 1 Axes>"
      ]
     },
     "metadata": {
      "needs_background": "light"
     },
     "output_type": "display_data"
    }
   ],
   "source": [
    "df5.plot(x = 'rating_numerator', y = 'favorite_count', kind = 'scatter');"
   ]
  },
  {
   "cell_type": "code",
   "execution_count": 271,
   "metadata": {},
   "outputs": [
    {
     "data": {
      "text/plain": [
       "0.4288089915101192"
      ]
     },
     "execution_count": 271,
     "metadata": {},
     "output_type": "execute_result"
    }
   ],
   "source": [
    "df5['rating_numerator'].corr(df5['favorite_count'])"
   ]
  },
  {
   "cell_type": "markdown",
   "metadata": {},
   "source": [
    "### the 2nd insight is that there is a positive corelation between the dog rating and the number of favorite, this corelation is stronger with favorite than with retweet, which indicate that people tend to hit like on the top dogs more than retweeting them"
   ]
  },
  {
   "cell_type": "markdown",
   "metadata": {},
   "source": [
    "### Analyzing and Visualizing 3:"
   ]
  },
  {
   "cell_type": "code",
   "execution_count": 272,
   "metadata": {},
   "outputs": [],
   "source": [
    "grouped_Df = df5.groupby(['p1'])['rating_numerator'].mean()\n",
    "grouped_Df = grouped_Df.reset_index() ## to continue working on a data frame instead of multi index series"
   ]
  },
  {
   "cell_type": "code",
   "execution_count": 273,
   "metadata": {},
   "outputs": [
    {
     "data": {
      "text/html": [
       "<div>\n",
       "<style scoped>\n",
       "    .dataframe tbody tr th:only-of-type {\n",
       "        vertical-align: middle;\n",
       "    }\n",
       "\n",
       "    .dataframe tbody tr th {\n",
       "        vertical-align: top;\n",
       "    }\n",
       "\n",
       "    .dataframe thead th {\n",
       "        text-align: right;\n",
       "    }\n",
       "</style>\n",
       "<table border=\"1\" class=\"dataframe\">\n",
       "  <thead>\n",
       "    <tr style=\"text-align: right;\">\n",
       "      <th></th>\n",
       "      <th>p1</th>\n",
       "      <th>rating_numerator</th>\n",
       "    </tr>\n",
       "  </thead>\n",
       "  <tbody>\n",
       "    <tr>\n",
       "      <th>73</th>\n",
       "      <td>miniature_schnauzer</td>\n",
       "      <td>5.00</td>\n",
       "    </tr>\n",
       "    <tr>\n",
       "      <th>6</th>\n",
       "      <td>Boston_bull</td>\n",
       "      <td>7.75</td>\n",
       "    </tr>\n",
       "    <tr>\n",
       "      <th>78</th>\n",
       "      <td>soft-coated_wheaten_terrier</td>\n",
       "      <td>8.00</td>\n",
       "    </tr>\n",
       "    <tr>\n",
       "      <th>61</th>\n",
       "      <td>dalmatian</td>\n",
       "      <td>8.80</td>\n",
       "    </tr>\n",
       "    <tr>\n",
       "      <th>27</th>\n",
       "      <td>Maltese_dog</td>\n",
       "      <td>9.00</td>\n",
       "    </tr>\n",
       "    <tr>\n",
       "      <th>...</th>\n",
       "      <td>...</td>\n",
       "      <td>...</td>\n",
       "    </tr>\n",
       "    <tr>\n",
       "      <th>26</th>\n",
       "      <td>Leonberg</td>\n",
       "      <td>13.00</td>\n",
       "    </tr>\n",
       "    <tr>\n",
       "      <th>55</th>\n",
       "      <td>briard</td>\n",
       "      <td>13.00</td>\n",
       "    </tr>\n",
       "    <tr>\n",
       "      <th>0</th>\n",
       "      <td>Afghan_hound</td>\n",
       "      <td>13.00</td>\n",
       "    </tr>\n",
       "    <tr>\n",
       "      <th>50</th>\n",
       "      <td>black-and-tan_coonhound</td>\n",
       "      <td>14.00</td>\n",
       "    </tr>\n",
       "    <tr>\n",
       "      <th>18</th>\n",
       "      <td>Gordon_setter</td>\n",
       "      <td>14.00</td>\n",
       "    </tr>\n",
       "  </tbody>\n",
       "</table>\n",
       "<p>83 rows × 2 columns</p>\n",
       "</div>"
      ],
      "text/plain": [
       "                             p1  rating_numerator\n",
       "73          miniature_schnauzer              5.00\n",
       "6                   Boston_bull              7.75\n",
       "78  soft-coated_wheaten_terrier              8.00\n",
       "61                    dalmatian              8.80\n",
       "27                  Maltese_dog              9.00\n",
       "..                          ...               ...\n",
       "26                     Leonberg             13.00\n",
       "55                       briard             13.00\n",
       "0                  Afghan_hound             13.00\n",
       "50      black-and-tan_coonhound             14.00\n",
       "18                Gordon_setter             14.00\n",
       "\n",
       "[83 rows x 2 columns]"
      ]
     },
     "execution_count": 273,
     "metadata": {},
     "output_type": "execute_result"
    }
   ],
   "source": [
    "grouped_Df.sort_values('rating_numerator', ascending=True)"
   ]
  },
  {
   "cell_type": "code",
   "execution_count": 274,
   "metadata": {},
   "outputs": [
    {
     "data": {
      "text/html": [
       "<div>\n",
       "<style scoped>\n",
       "    .dataframe tbody tr th:only-of-type {\n",
       "        vertical-align: middle;\n",
       "    }\n",
       "\n",
       "    .dataframe tbody tr th {\n",
       "        vertical-align: top;\n",
       "    }\n",
       "\n",
       "    .dataframe thead th {\n",
       "        text-align: right;\n",
       "    }\n",
       "</style>\n",
       "<table border=\"1\" class=\"dataframe\">\n",
       "  <thead>\n",
       "    <tr style=\"text-align: right;\">\n",
       "      <th></th>\n",
       "      <th>p1</th>\n",
       "      <th>rating_numerator</th>\n",
       "    </tr>\n",
       "  </thead>\n",
       "  <tbody>\n",
       "    <tr>\n",
       "      <th>18</th>\n",
       "      <td>Gordon_setter</td>\n",
       "      <td>14.00</td>\n",
       "    </tr>\n",
       "    <tr>\n",
       "      <th>50</th>\n",
       "      <td>black-and-tan_coonhound</td>\n",
       "      <td>14.00</td>\n",
       "    </tr>\n",
       "    <tr>\n",
       "      <th>0</th>\n",
       "      <td>Afghan_hound</td>\n",
       "      <td>13.00</td>\n",
       "    </tr>\n",
       "    <tr>\n",
       "      <th>55</th>\n",
       "      <td>briard</td>\n",
       "      <td>13.00</td>\n",
       "    </tr>\n",
       "    <tr>\n",
       "      <th>26</th>\n",
       "      <td>Leonberg</td>\n",
       "      <td>13.00</td>\n",
       "    </tr>\n",
       "    <tr>\n",
       "      <th>...</th>\n",
       "      <td>...</td>\n",
       "      <td>...</td>\n",
       "    </tr>\n",
       "    <tr>\n",
       "      <th>27</th>\n",
       "      <td>Maltese_dog</td>\n",
       "      <td>9.00</td>\n",
       "    </tr>\n",
       "    <tr>\n",
       "      <th>61</th>\n",
       "      <td>dalmatian</td>\n",
       "      <td>8.80</td>\n",
       "    </tr>\n",
       "    <tr>\n",
       "      <th>78</th>\n",
       "      <td>soft-coated_wheaten_terrier</td>\n",
       "      <td>8.00</td>\n",
       "    </tr>\n",
       "    <tr>\n",
       "      <th>6</th>\n",
       "      <td>Boston_bull</td>\n",
       "      <td>7.75</td>\n",
       "    </tr>\n",
       "    <tr>\n",
       "      <th>73</th>\n",
       "      <td>miniature_schnauzer</td>\n",
       "      <td>5.00</td>\n",
       "    </tr>\n",
       "  </tbody>\n",
       "</table>\n",
       "<p>83 rows × 2 columns</p>\n",
       "</div>"
      ],
      "text/plain": [
       "                             p1  rating_numerator\n",
       "18                Gordon_setter             14.00\n",
       "50      black-and-tan_coonhound             14.00\n",
       "0                  Afghan_hound             13.00\n",
       "55                       briard             13.00\n",
       "26                     Leonberg             13.00\n",
       "..                          ...               ...\n",
       "27                  Maltese_dog              9.00\n",
       "61                    dalmatian              8.80\n",
       "78  soft-coated_wheaten_terrier              8.00\n",
       "6                   Boston_bull              7.75\n",
       "73          miniature_schnauzer              5.00\n",
       "\n",
       "[83 rows x 2 columns]"
      ]
     },
     "execution_count": 274,
     "metadata": {},
     "output_type": "execute_result"
    }
   ],
   "source": [
    "grouped_Df.sort_values('rating_numerator', ascending=False)"
   ]
  },
  {
   "cell_type": "markdown",
   "metadata": {},
   "source": [
    "### the 3rd insight is that miniature_schnauzer & Boston_bull are the least liked types of dogs, while Gordon_setter & black-and-tan_coonhound are the most liked types of dogs"
   ]
  },
  {
   "cell_type": "markdown",
   "metadata": {},
   "source": [
    "### Analyzing and Visualizing 4:"
   ]
  },
  {
   "cell_type": "code",
   "execution_count": 275,
   "metadata": {},
   "outputs": [],
   "source": [
    "grouped_Df2 = df5.groupby(['stage'])['rating_numerator'].mean()\n",
    "grouped_Df2 = grouped_Df2.reset_index() ## to continue working on a data frame instead of multi index series"
   ]
  },
  {
   "cell_type": "code",
   "execution_count": 276,
   "metadata": {},
   "outputs": [
    {
     "data": {
      "text/html": [
       "<div>\n",
       "<style scoped>\n",
       "    .dataframe tbody tr th:only-of-type {\n",
       "        vertical-align: middle;\n",
       "    }\n",
       "\n",
       "    .dataframe tbody tr th {\n",
       "        vertical-align: top;\n",
       "    }\n",
       "\n",
       "    .dataframe thead th {\n",
       "        text-align: right;\n",
       "    }\n",
       "</style>\n",
       "<table border=\"1\" class=\"dataframe\">\n",
       "  <thead>\n",
       "    <tr style=\"text-align: right;\">\n",
       "      <th></th>\n",
       "      <th>stage</th>\n",
       "      <th>rating_numerator</th>\n",
       "    </tr>\n",
       "  </thead>\n",
       "  <tbody>\n",
       "    <tr>\n",
       "      <th>5</th>\n",
       "      <td>puppo</td>\n",
       "      <td>12.400000</td>\n",
       "    </tr>\n",
       "    <tr>\n",
       "      <th>3</th>\n",
       "      <td>floofer</td>\n",
       "      <td>12.333333</td>\n",
       "    </tr>\n",
       "    <tr>\n",
       "      <th>1</th>\n",
       "      <td>doggo</td>\n",
       "      <td>12.125000</td>\n",
       "    </tr>\n",
       "    <tr>\n",
       "      <th>4</th>\n",
       "      <td>pupper</td>\n",
       "      <td>11.120000</td>\n",
       "    </tr>\n",
       "    <tr>\n",
       "      <th>0</th>\n",
       "      <td></td>\n",
       "      <td>11.037924</td>\n",
       "    </tr>\n",
       "    <tr>\n",
       "      <th>2</th>\n",
       "      <td>doggo,pupper</td>\n",
       "      <td>11.000000</td>\n",
       "    </tr>\n",
       "  </tbody>\n",
       "</table>\n",
       "</div>"
      ],
      "text/plain": [
       "          stage  rating_numerator\n",
       "5         puppo         12.400000\n",
       "3       floofer         12.333333\n",
       "1         doggo         12.125000\n",
       "4        pupper         11.120000\n",
       "0                       11.037924\n",
       "2  doggo,pupper         11.000000"
      ]
     },
     "execution_count": 276,
     "metadata": {},
     "output_type": "execute_result"
    }
   ],
   "source": [
    "grouped_Df2.sort_values('rating_numerator', ascending=False)"
   ]
  },
  {
   "cell_type": "markdown",
   "metadata": {},
   "source": [
    "### the 3rd insight is that puppo & floofer are the most liked dogs stages"
   ]
  }
 ],
 "metadata": {
  "kernelspec": {
   "display_name": "Python 3",
   "language": "python",
   "name": "python3"
  },
  "language_info": {
   "codemirror_mode": {
    "name": "ipython",
    "version": 3
   },
   "file_extension": ".py",
   "mimetype": "text/x-python",
   "name": "python",
   "nbconvert_exporter": "python",
   "pygments_lexer": "ipython3",
   "version": "3.7.7"
  }
 },
 "nbformat": 4,
 "nbformat_minor": 4
}
